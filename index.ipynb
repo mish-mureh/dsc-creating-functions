{
 "cells": [
  {
   "cell_type": "markdown",
   "metadata": {},
   "source": [
    "# Creating Functions\n",
    "\n",
    "## Introduction\n",
    "Now that we learned about loops, it would be nice to have the ability to *reuse* our code to help us solve different problems. Functions allow us to do just that. They also give us the ability to name a sequence of operations (or block of code), thus making our code expressive. Let's see how this works, and why something like this is useful."
   ]
  },
  {
   "cell_type": "markdown",
   "metadata": {},
   "source": [
    "## Objectives\n",
    "\n",
    "You will be able to:\n",
    "\n",
    "* Declare and use a basic function"
   ]
  },
  {
   "cell_type": "code",
   "execution_count": null,
   "metadata": {},
   "outputs": [],
   "source": [
    "###  Examples of methods\n",
    ".append()\n",
    ".upper()\n",
    ".capitalize()\n",
    ".pop()\n",
    ".sort()\n",
    ".replace()\n",
    ".endswith()\n",
    ".startswith()\n",
    ".get()\n"
   ]
  },
  {
   "cell_type": "code",
   "execution_count": null,
   "metadata": {},
   "outputs": [],
   "source": [
    "### Examples of functions\n",
    "type()\n",
    "len()\n",
    "print()\n",
    "list()\n",
    "range()"
   ]
  },
  {
   "cell_type": "code",
   "execution_count": 11,
   "metadata": {},
   "outputs": [],
   "source": [
    "# create a list\n",
    "list_of_fruits = ['oranges', 'mangoes', 'kiwi']"
   ]
  },
  {
   "cell_type": "code",
   "execution_count": 12,
   "metadata": {},
   "outputs": [],
   "source": [
    "# create a function that will print the list of fruits\n",
    "\n",
    "def print_fruits():\n",
    "    for fruit in list_of_fruits:\n",
    "        print(fruit.title())"
   ]
  },
  {
   "cell_type": "code",
   "execution_count": 13,
   "metadata": {},
   "outputs": [
    {
     "name": "stdout",
     "output_type": "stream",
     "text": [
      "Oranges\n",
      "Mangoes\n",
      "Kiwi\n"
     ]
    }
   ],
   "source": [
    "# declare or call the function to print the result\n",
    "print_fruits()"
   ]
  },
  {
   "cell_type": "code",
   "execution_count": 19,
   "metadata": {},
   "outputs": [
    {
     "data": {
      "text/plain": [
       "[0, 1, 2, 3, 4]"
      ]
     },
     "execution_count": 19,
     "metadata": {},
     "output_type": "execute_result"
    }
   ],
   "source": [
    "numbers_list = list(range(0, 5))\n",
    "numbers_list"
   ]
  },
  {
   "cell_type": "code",
   "execution_count": 34,
   "metadata": {},
   "outputs": [],
   "source": [
    "#iterate through numbers_list and print the elements\n",
    "def num_list(words): # the brackets take arguements\n",
    "    for number in words:# arguements\n",
    "        print(number)"
   ]
  },
  {
   "cell_type": "code",
   "execution_count": 35,
   "metadata": {},
   "outputs": [
    {
     "name": "stdout",
     "output_type": "stream",
     "text": [
      "python\n",
      "sql\n",
      "Java\n"
     ]
    }
   ],
   "source": [
    "item = ['python', 'sql', 'Java']\n",
    "num_list(item)"
   ]
  },
  {
   "cell_type": "code",
   "execution_count": 29,
   "metadata": {},
   "outputs": [
    {
     "name": "stdout",
     "output_type": "stream",
     "text": [
      "football\n",
      "volleyball\n",
      "handball\n"
     ]
    }
   ],
   "source": [
    "games = ['football', 'volleyball', 'handball']\n",
    "num_list(games)"
   ]
  },
  {
   "cell_type": "code",
   "execution_count": 40,
   "metadata": {},
   "outputs": [],
   "source": [
    "def addition(a, b):\n",
    "    results = a+b\n",
    "    return results"
   ]
  },
  {
   "cell_type": "code",
   "execution_count": 41,
   "metadata": {},
   "outputs": [],
   "source": [
    "#a = 7\n",
    "#b = 5"
   ]
  },
  {
   "cell_type": "code",
   "execution_count": 43,
   "metadata": {},
   "outputs": [
    {
     "data": {
      "text/plain": [
       "12"
      ]
     },
     "execution_count": 43,
     "metadata": {},
     "output_type": "execute_result"
    }
   ],
   "source": [
    "addition(7, 5)"
   ]
  },
  {
   "cell_type": "markdown",
   "metadata": {},
   "source": [
    "## Our problem so far "
   ]
  },
  {
   "cell_type": "markdown",
   "metadata": {},
   "source": [
    "Imagine that we have a group of employees who have just joined our company.  "
   ]
  },
  {
   "cell_type": "code",
   "execution_count": 1,
   "metadata": {},
   "outputs": [],
   "source": [
    "new_employees = ['jim', 'tracy', 'lisa']"
   ]
  },
  {
   "cell_type": "markdown",
   "metadata": {},
   "source": [
    "> Press shift + enter to run this code."
   ]
  },
  {
   "cell_type": "markdown",
   "metadata": {},
   "source": [
    "We want to send each of them a nice welcome message.  We could use a `for` loop to create a list of `welcome_messages`."
   ]
  },
  {
   "cell_type": "code",
   "execution_count": 2,
   "metadata": {},
   "outputs": [
    {
     "data": {
      "text/plain": [
       "[\"Hi Jim, I'm so glad to be working with you!\",\n",
       " \"Hi Tracy, I'm so glad to be working with you!\",\n",
       " \"Hi Lisa, I'm so glad to be working with you!\"]"
      ]
     },
     "execution_count": 2,
     "metadata": {},
     "output_type": "execute_result"
    }
   ],
   "source": [
    "welcome_messages = []\n",
    "for new_employee in new_employees:\n",
    "    welcome_messages.append(\"Hi \" + new_employee.title() + \", I'm so glad to be working with you!\" )\n",
    "\n",
    "welcome_messages"
   ]
  },
  {
   "cell_type": "markdown",
   "metadata": {},
   "source": [
    "Then a couple of weeks later, a few more employees join, and we want to send messages to them as well."
   ]
  },
  {
   "cell_type": "code",
   "execution_count": 3,
   "metadata": {},
   "outputs": [],
   "source": [
    "new_employees = ['steven', 'jan', 'meryl']"
   ]
  },
  {
   "cell_type": "markdown",
   "metadata": {},
   "source": [
    "Well to accomplish welcoming the new employees, we would likely copy our code from above."
   ]
  },
  {
   "cell_type": "code",
   "execution_count": 4,
   "metadata": {},
   "outputs": [
    {
     "data": {
      "text/plain": [
       "[\"Hi Steven, I'm so glad to be working with you!\",\n",
       " \"Hi Jan, I'm so glad to be working with you!\",\n",
       " \"Hi Meryl, I'm so glad to be working with you!\"]"
      ]
     },
     "execution_count": 4,
     "metadata": {},
     "output_type": "execute_result"
    }
   ],
   "source": [
    "welcome_messages = []\n",
    "for new_employee in new_employees:\n",
    "    welcome_messages.append(\"Hi \" + new_employee.title() + \", I'm so glad to be working with you!\" )\n",
    "    \n",
    "welcome_messages"
   ]
  },
  {
   "cell_type": "markdown",
   "metadata": {},
   "source": [
    "If each time we wanted to reuse code we would have to copy and paste the code and maintain a lot more code than is necessary.  Also, each time we recopied it is another opportunity to make a mistake.  So what if there was a way to write that code just one time, yet be able to execute that code wherever and whenever we want?  Functions allow us to do just that.\n",
    "\n",
    "Here is that same code wrapped in a function: "
   ]
  },
  {
   "cell_type": "code",
   "execution_count": 5,
   "metadata": {},
   "outputs": [],
   "source": [
    "def greet_employees():\n",
    "    welcome_messages = []\n",
    "    for new_employee in new_employees:\n",
    "        welcome_messages.append(\"Hi \" + new_employee.title() + \", I'm so glad to be working with you!\" )\n",
    "\n",
    "    return welcome_messages"
   ]
  },
  {
   "cell_type": "code",
   "execution_count": 6,
   "metadata": {
    "scrolled": true
   },
   "outputs": [
    {
     "data": {
      "text/plain": [
       "[\"Hi Steven, I'm so glad to be working with you!\",\n",
       " \"Hi Jan, I'm so glad to be working with you!\",\n",
       " \"Hi Meryl, I'm so glad to be working with you!\"]"
      ]
     },
     "execution_count": 6,
     "metadata": {},
     "output_type": "execute_result"
    }
   ],
   "source": [
    "greet_employees()"
   ]
  },
  {
   "cell_type": "markdown",
   "metadata": {},
   "source": [
    "> Make sure to press shift + enter for the two cells above."
   ]
  },
  {
   "cell_type": "markdown",
   "metadata": {},
   "source": [
    "There are two steps to using a function: defining a function and executing a function.  Defining a function happens first, and afterward when we call `greet_employees()` we execute the function.   "
   ]
  },
  {
   "cell_type": "code",
   "execution_count": 7,
   "metadata": {},
   "outputs": [
    {
     "data": {
      "text/plain": [
       "[\"Hi Jan, I'm so glad to be working with you!\",\n",
       " \"Hi Joe, I'm so glad to be working with you!\",\n",
       " \"Hi Avi, I'm so glad to be working with you!\"]"
      ]
     },
     "execution_count": 7,
     "metadata": {},
     "output_type": "execute_result"
    }
   ],
   "source": [
    "new_employees = ['Jan', 'Joe', 'Avi']\n",
    "greet_employees()"
   ]
  },
  {
   "cell_type": "markdown",
   "metadata": {},
   "source": [
    "Ok, let's break down how to define, or declare, a function.  Executing a function is fairly simple, just type the function's name followed by parentheses."
   ]
  },
  {
   "cell_type": "code",
   "execution_count": 8,
   "metadata": {},
   "outputs": [
    {
     "data": {
      "text/plain": [
       "[\"Hi Jan, I'm so glad to be working with you!\",\n",
       " \"Hi Joe, I'm so glad to be working with you!\",\n",
       " \"Hi Avi, I'm so glad to be working with you!\"]"
      ]
     },
     "execution_count": 8,
     "metadata": {},
     "output_type": "execute_result"
    }
   ],
   "source": [
    "greet_employees()"
   ]
  },
  {
   "cell_type": "markdown",
   "metadata": {},
   "source": [
    "## Declaring and using functions"
   ]
  },
  {
   "cell_type": "markdown",
   "metadata": {},
   "source": [
    "There are two components to declaring a function: the function signature and the function body."
   ]
  },
  {
   "cell_type": "code",
   "execution_count": 9,
   "metadata": {},
   "outputs": [],
   "source": [
    "def name_of_function(): # signature\n",
    "    words = 'function body' # body\n",
    "    print(words) # body"
   ]
  },
  {
   "cell_type": "markdown",
   "metadata": {},
   "source": [
    "### Function Signature\n",
    "\n",
    "The function signature is the first line of the function.  It follows the pattern of `def`, `function name`, `parentheses`, `colon`.\n",
    "\n",
    "`def name_of_function():`\n",
    "\n",
    "The `def` is there to tell Python that you are about to declare a function.  The name of the function indicates how to reference and execute the function later.  The colon is to end the function signature and indicate that the body of the function is next.  The parentheses are important as well, and we'll explain their use in a later lesson.\n",
    "\n",
    "### Function Body\n",
    "\n",
    "The body of the function is what the function does.  This is the code that runs each time we execute the function.  We indicate that we are writing the function body by going to the next line and indenting after the colon.  To complete the function body we stop indenting.  "
   ]
  },
  {
   "cell_type": "code",
   "execution_count": 10,
   "metadata": {},
   "outputs": [],
   "source": [
    "def name_of_function(): \n",
    "    words = 'function body' # function body\n",
    "    print(words) # function body    \n",
    "# no longer part of the function body"
   ]
  },
  {
   "cell_type": "markdown",
   "metadata": {},
   "source": [
    "Let's execute the `name_of_function()` function."
   ]
  },
  {
   "cell_type": "code",
   "execution_count": 11,
   "metadata": {},
   "outputs": [
    {
     "name": "stdout",
     "output_type": "stream",
     "text": [
      "function body\n"
     ]
    }
   ],
   "source": [
    "name_of_function()"
   ]
  },
  {
   "cell_type": "markdown",
   "metadata": {},
   "source": [
    "> Press shift + enter"
   ]
  },
  {
   "cell_type": "markdown",
   "metadata": {},
   "source": [
    "Did it work?  Kinda.  The lines of our function were run.  But our function did not return anything.  Functions are designed so that everything inside of them stays inside.  So for example, even though we declared the `words` variable, `words` is not available from outside of the function."
   ]
  },
  {
   "cell_type": "code",
   "execution_count": 12,
   "metadata": {},
   "outputs": [
    {
     "ename": "NameError",
     "evalue": "name 'words' is not defined",
     "output_type": "error",
     "traceback": [
      "\u001b[1;31m---------------------------------------------------------------------------\u001b[0m",
      "\u001b[1;31mNameError\u001b[0m                                 Traceback (most recent call last)",
      "\u001b[1;32m<ipython-input-12-730c51b3e7e0>\u001b[0m in \u001b[0;36m<module>\u001b[1;34m\u001b[0m\n\u001b[1;32m----> 1\u001b[1;33m \u001b[0mwords\u001b[0m\u001b[1;33m\u001b[0m\u001b[1;33m\u001b[0m\u001b[0m\n\u001b[0m",
      "\u001b[1;31mNameError\u001b[0m: name 'words' is not defined"
     ]
    }
   ],
   "source": [
    "words"
   ]
  },
  {
   "cell_type": "markdown",
   "metadata": {},
   "source": [
    "To get something out of the function, we must use the `return` keyword, followed by what we would like to return.  Let's declare another function called `other_function()` that has a body which is exactly the same, but has a return statement."
   ]
  },
  {
   "cell_type": "code",
   "execution_count": 13,
   "metadata": {},
   "outputs": [],
   "source": [
    "def other_function(): # signature\n",
    "    words = 'returned from inside the function body' # body\n",
    "    return words"
   ]
  },
  {
   "cell_type": "code",
   "execution_count": 14,
   "metadata": {},
   "outputs": [
    {
     "data": {
      "text/plain": [
       "'returned from inside the function body'"
      ]
     },
     "execution_count": 14,
     "metadata": {},
     "output_type": "execute_result"
    }
   ],
   "source": [
    "other_function()"
   ]
  },
  {
   "cell_type": "markdown",
   "metadata": {},
   "source": [
    "Much better.  So with the return statement we returned the string `'returned from inside the function body'`."
   ]
  },
  {
   "cell_type": "markdown",
   "metadata": {},
   "source": [
    "> We will learn more on what is available from inside and outside of the function, so, don't worry if it feels a little confusing right now."
   ]
  },
  {
   "cell_type": "markdown",
   "metadata": {},
   "source": [
    "## See it again"
   ]
  },
  {
   "cell_type": "markdown",
   "metadata": {},
   "source": [
    "Now let's identify the function signature and function body of our original function, `greet_empoyees()`."
   ]
  },
  {
   "cell_type": "code",
   "execution_count": 15,
   "metadata": {},
   "outputs": [],
   "source": [
    "def greet_employees(): # function signature\n",
    "    welcome_messages = [] # begin function body\n",
    "    for new_employee in new_employees:\n",
    "        welcome_messages.append(\"Hi \" + new_employee.title() + \", I'm so glad to be working with you!\" )\n",
    "\n",
    "    return welcome_messages # return statement\n",
    "\n",
    "# no longer in function body"
   ]
  },
  {
   "cell_type": "markdown",
   "metadata": {},
   "source": [
    "As you can see, `greet_employees()` has the same components of a function we identified earlier: the function signature, the function body, and the return statement. Each time we call, `greet_employees()`, all of the lines in the body of the function are run.  However, only the return value is accessible from outside of the function."
   ]
  },
  {
   "cell_type": "code",
   "execution_count": 16,
   "metadata": {},
   "outputs": [
    {
     "data": {
      "text/plain": [
       "[\"Hi Jan, I'm so glad to be working with you!\",\n",
       " \"Hi Joe, I'm so glad to be working with you!\",\n",
       " \"Hi Avi, I'm so glad to be working with you!\"]"
      ]
     },
     "execution_count": 16,
     "metadata": {},
     "output_type": "execute_result"
    }
   ],
   "source": [
    "greet_employees()"
   ]
  },
  {
   "cell_type": "code",
   "execution_count": 8,
   "metadata": {},
   "outputs": [
    {
     "name": "stdout",
     "output_type": "stream",
     "text": [
      "John\n",
      "Jane\n",
      "Mary\n"
     ]
    }
   ],
   "source": [
    "travellers = ['john', 'jane', 'mary']\n",
    "for traveller in travellers:\n",
    "    print(traveller.title())"
   ]
  },
  {
   "cell_type": "code",
   "execution_count": 18,
   "metadata": {},
   "outputs": [
    {
     "ename": "AttributeError",
     "evalue": "'list' object attribute 'append' is read-only",
     "output_type": "error",
     "traceback": [
      "\u001b[1;31m---------------------------------------------------------------------------\u001b[0m",
      "\u001b[1;31mAttributeError\u001b[0m                            Traceback (most recent call last)",
      "Cell \u001b[1;32mIn[18], line 6\u001b[0m\n\u001b[0;32m      4\u001b[0m         greetings\u001b[38;5;241m.\u001b[39mappend \u001b[38;5;241m=\u001b[39m( \u001b[38;5;124m\"\u001b[39m\u001b[38;5;124mhi \u001b[39m\u001b[38;5;124m\"\u001b[39m \u001b[38;5;241m+\u001b[39m traveller \u001b[38;5;241m+\u001b[39m \u001b[38;5;124m\"\u001b[39m\u001b[38;5;124m nice to meet you\u001b[39m\u001b[38;5;124m\"\u001b[39m)\n\u001b[0;32m      5\u001b[0m     \u001b[38;5;28;01mreturn\u001b[39;00m greetings\n\u001b[1;32m----> 6\u001b[0m meet_travellers()\n",
      "Cell \u001b[1;32mIn[18], line 4\u001b[0m, in \u001b[0;36mmeet_travellers\u001b[1;34m()\u001b[0m\n\u001b[0;32m      2\u001b[0m greetings \u001b[38;5;241m=\u001b[39m []\n\u001b[0;32m      3\u001b[0m \u001b[38;5;28;01mfor\u001b[39;00m traveller \u001b[38;5;129;01min\u001b[39;00m travellers:\n\u001b[1;32m----> 4\u001b[0m     greetings\u001b[38;5;241m.\u001b[39mappend \u001b[38;5;241m=\u001b[39m( \u001b[38;5;124m\"\u001b[39m\u001b[38;5;124mhi \u001b[39m\u001b[38;5;124m\"\u001b[39m \u001b[38;5;241m+\u001b[39m traveller \u001b[38;5;241m+\u001b[39m \u001b[38;5;124m\"\u001b[39m\u001b[38;5;124m nice to meet you\u001b[39m\u001b[38;5;124m\"\u001b[39m)\n\u001b[0;32m      5\u001b[0m \u001b[38;5;28;01mreturn\u001b[39;00m greetings\n",
      "\u001b[1;31mAttributeError\u001b[0m: 'list' object attribute 'append' is read-only"
     ]
    }
   ],
   "source": [
    "def meet_travellers():\n",
    "    greetings = []\n",
    "    for traveller in travellers:\n",
    "        greetings.append =( \"hi \" + traveller + \" nice to meet you\")\n",
    "    return greetings\n",
    "meet_travellers()\n",
    "    "
   ]
  },
  {
   "cell_type": "markdown",
   "metadata": {},
   "source": [
    "## Summary"
   ]
  },
  {
   "cell_type": "code",
   "execution_count": null,
   "metadata": {},
   "outputs": [],
   "source": []
  },
  {
   "cell_type": "markdown",
   "metadata": {
    "collapsed": true
   },
   "source": [
    "In this lesson we saw how using a function allows us to reuse code without rewriting it.  We saw that to declare a function we first write the function signature, which consists of the `def` keyword, the function name, parentheses, and a colon.  We indicate the body of the function by indenting our code and then writing the code that our function will execute.  To execute the function, we write the function's name followed by parentheses.  Executing the function will run the lines in the body of the function."
   ]
  }
 ],
 "metadata": {
  "kernelspec": {
   "display_name": "Python (learn-env)",
   "language": "python",
   "name": "learn-env"
  },
  "language_info": {
   "codemirror_mode": {
    "name": "ipython",
    "version": 3
   },
   "file_extension": ".py",
   "mimetype": "text/x-python",
   "name": "python",
   "nbconvert_exporter": "python",
   "pygments_lexer": "ipython3",
   "version": "3.11.7"
  },
  "toc": {
   "base_numbering": 1,
   "nav_menu": {},
   "number_sections": true,
   "sideBar": true,
   "skip_h1_title": false,
   "title_cell": "Table of Contents",
   "title_sidebar": "Contents",
   "toc_cell": false,
   "toc_position": {},
   "toc_section_display": true,
   "toc_window_display": false
  }
 },
 "nbformat": 4,
 "nbformat_minor": 2
}
